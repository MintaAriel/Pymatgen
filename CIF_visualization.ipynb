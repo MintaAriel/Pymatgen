{
 "cells": [
  {
   "cell_type": "markdown",
   "id": "d39573ce-d12c-4717-80e0-71d5c2d17dac",
   "metadata": {},
   "source": [
    "<h1 style=\"text-align: center;\">CIF Visualization using nglview</h1>"
   ]
  },
  {
   "cell_type": "markdown",
   "id": "0621a1d0-fd09-4b1d-a8e1-7251e55db77c",
   "metadata": {},
   "source": [
    "A Crystallographic Information File (**.cif**) is a file format used to store crystal structure information, such as lattice parameters, atoms, and their coordinates. This project will be based on the **.cif** file created in Dr. Manas Sharma’s tutorial for generating a graphene monolayer using VESTA (Visualization for Electronic and Structural Analysis).  \n",
    "\n",
    "**References**:  \n",
    "- \"Phys Whiz\" tutorial: [https://youtu.be/yP1BREWv6u0]  \n",
    "- VESTA: [https://jp-minerals.org/vesta/en/]  \n",
    "- pymatgen documentation: [https://pymatgen.org/pymatgen.io.html]  \n",
    "\n",
    "The **.cif** file is stored in the GitHub folder as *graphene_monolayer_5x5.cif*.  \n",
    "\n",
    "---\n",
    "### Libraries  \n",
    "**Python**: Python 3.10.16  \n",
    "\n",
    "Before using **nglview** and **pymatgen**, install them in your Conda environment using the following commands in the Anaconda prompt:  \n",
    "```python\n",
    "conda install -c conda-forge nglview  \n",
    "conda install -c conda-forge pymatgen  \n",
    "```  \n",
    "We use the `conda-forge` channel (`-c`) since these are not standard packages.  \n",
    "\n",
    "**Jupyter version used for this code**:  \n",
    "```python\n",
    "jupyter --version  \n",
    "    Selected Jupyter core packages...  \n",
    "    IPython          : 8.30.0  \n",
    "    ipykernel        : 6.29.5  \n",
    "    ipywidgets       : 8.1.6  \n",
    "    jupyter_client   : 8.6.3  \n",
    "    jupyter_core     : 5.7.2  \n",
    "    jupyter_server   : 2.15.0  \n",
    "    jupyterlab       : 4.3.4  \n",
    "    nbclient         : 0.10.2  \n",
    "    nbconvert        : 7.16.6  \n",
    "    nbformat         : 5.10.4  \n",
    "    notebook         : 7.3.2  \n",
    "    qtconsole        : not installed  \n",
    "    traitlets        : 5.14.3  \n",
    "```  \n"
   ]
  },
  {
   "cell_type": "markdown",
   "id": "3bc08fab-d5e9-4061-a868-c181a89d5a84",
   "metadata": {},
   "source": [
    "---\n",
    "## Code\n"
   ]
  },
  {
   "cell_type": "code",
   "execution_count": 23,
   "id": "ed7a13a4-7181-46fb-817a-358e7077ba5a",
   "metadata": {},
   "outputs": [],
   "source": [
    "import numpy as np\n",
    "from pymatgen.io.cif import CifParser\n",
    "import nglview as nv"
   ]
  },
  {
   "cell_type": "code",
   "execution_count": 24,
   "id": "1985fd6e-464c-4b15-9a37-50ad10b5c09d",
   "metadata": {},
   "outputs": [
    {
     "name": "stderr",
     "output_type": "stream",
     "text": [
      "C:\\Users\\Brian\\AppData\\Local\\Temp\\ipykernel_14616\\78083017.py:2: UserWarning: The default value of primitive was changed from True to False in https://github.com/materialsproject/pymatgen/pull/3419. CifParser now returns the cell in the CIF file as is. If you want the primitive cell, please set primitive=True explicitly.\n",
      "  graphene = parser.parse_structures()[0]  #CifParser.parse_structures returns a list, therefore we need the first value of the list.\n",
      "C:\\Users\\Brian\\AppData\\Local\\Temp\\ipykernel_14616\\78083017.py:2: UserWarning: Issues encountered while parsing CIF: 10 fractional coordinates rounded to ideal values to avoid issues with finite precision.\n",
      "  graphene = parser.parse_structures()[0]  #CifParser.parse_structures returns a list, therefore we need the first value of the list.\n"
     ]
    },
    {
     "data": {
      "text/plain": [
       "Structure Summary\n",
       "Lattice\n",
       "    abc : 12.336457 12.336457 15.0\n",
       " angles : 90.0 90.0 119.99999999999999\n",
       " volume : 1976.9823376863806\n",
       "      A : np.float64(12.336457) np.float64(0.0) np.float64(7.55390128893448e-16)\n",
       "      B : np.float64(-6.168228499999998) np.float64(10.683685154694365) np.float64(7.55390128893448e-16)\n",
       "      C : np.float64(0.0) np.float64(0.0) np.float64(15.0)\n",
       "    pbc : True True True\n",
       "PeriodicSite: C0 (C) (0.0, 0.0, 3.75) [0.0, 0.0, 0.25]\n",
       "PeriodicSite: C0 (C) (-1.234, 2.137, 3.75) [0.0, 0.2, 0.25]\n",
       "PeriodicSite: C0 (C) (-2.467, 4.273, 3.75) [0.0, 0.4, 0.25]\n",
       "PeriodicSite: C0 (C) (-3.701, 6.41, 3.75) [0.0, 0.6, 0.25]\n",
       "PeriodicSite: C0 (C) (-4.935, 8.547, 3.75) [0.0, 0.8, 0.25]\n",
       "PeriodicSite: C0 (C) (2.467, 0.0, 3.75) [0.2, 0.0, 0.25]\n",
       "PeriodicSite: C0 (C) (1.234, 2.137, 3.75) [0.2, 0.2, 0.25]\n",
       "PeriodicSite: C0 (C) (8.4e-16, 4.273, 3.75) [0.2, 0.4, 0.25]\n",
       "PeriodicSite: C0 (C) (-1.234, 6.41, 3.75) [0.2, 0.6, 0.25]\n",
       "PeriodicSite: C0 (C) (-2.467, 8.547, 3.75) [0.2, 0.8, 0.25]\n",
       "PeriodicSite: C0 (C) (4.935, 0.0, 3.75) [0.4, 0.0, 0.25]\n",
       "PeriodicSite: C0 (C) (3.701, 2.137, 3.75) [0.4, 0.2, 0.25]\n",
       "PeriodicSite: C0 (C) (2.467, 4.273, 3.75) [0.4, 0.4, 0.25]\n",
       "PeriodicSite: C0 (C) (1.234, 6.41, 3.75) [0.4, 0.6, 0.25]\n",
       "PeriodicSite: C0 (C) (1.68e-15, 8.547, 3.75) [0.4, 0.8, 0.25]\n",
       "PeriodicSite: C0 (C) (7.402, 0.0, 3.75) [0.6, 0.0, 0.25]\n",
       "PeriodicSite: C0 (C) (6.168, 2.137, 3.75) [0.6, 0.2, 0.25]\n",
       "PeriodicSite: C0 (C) (4.935, 4.273, 3.75) [0.6, 0.4, 0.25]\n",
       "PeriodicSite: C0 (C) (3.701, 6.41, 3.75) [0.6, 0.6, 0.25]\n",
       "PeriodicSite: C0 (C) (2.467, 8.547, 3.75) [0.6, 0.8, 0.25]\n",
       "PeriodicSite: C0 (C) (9.869, 0.0, 3.75) [0.8, 0.0, 0.25]\n",
       "PeriodicSite: C0 (C) (8.636, 2.137, 3.75) [0.8, 0.2, 0.25]\n",
       "PeriodicSite: C0 (C) (7.402, 4.273, 3.75) [0.8, 0.4, 0.25]\n",
       "PeriodicSite: C0 (C) (6.168, 6.41, 3.75) [0.8, 0.6, 0.25]\n",
       "PeriodicSite: C0 (C) (4.935, 8.547, 3.75) [0.8, 0.8, 0.25]\n",
       "PeriodicSite: C2 (C) (6.168e-06, 1.424, 3.75) [0.06667, 0.1333, 0.25]\n",
       "PeriodicSite: C2 (C) (-1.234, 3.561, 3.75) [0.06667, 0.3333, 0.25]\n",
       "PeriodicSite: C2 (C) (-2.467, 5.698, 3.75) [0.06667, 0.5333, 0.25]\n",
       "PeriodicSite: C2 (C) (-3.701, 7.835, 3.75) [0.06667, 0.7333, 0.25]\n",
       "PeriodicSite: C2 (C) (-4.935, 9.971, 3.75) [0.06667, 0.9333, 0.25]\n",
       "PeriodicSite: C2 (C) (2.467, 1.424, 3.75) [0.2667, 0.1333, 0.25]\n",
       "PeriodicSite: C2 (C) (1.234, 3.561, 3.75) [0.2667, 0.3333, 0.25]\n",
       "PeriodicSite: C2 (C) (6.168e-06, 5.698, 3.75) [0.2667, 0.5333, 0.25]\n",
       "PeriodicSite: C2 (C) (-1.234, 7.835, 3.75) [0.2667, 0.7333, 0.25]\n",
       "PeriodicSite: C2 (C) (-2.467, 9.971, 3.75) [0.2667, 0.9333, 0.25]\n",
       "PeriodicSite: C2 (C) (4.935, 1.424, 3.75) [0.4667, 0.1333, 0.25]\n",
       "PeriodicSite: C2 (C) (3.701, 3.561, 3.75) [0.4667, 0.3333, 0.25]\n",
       "PeriodicSite: C2 (C) (2.467, 5.698, 3.75) [0.4667, 0.5333, 0.25]\n",
       "PeriodicSite: C2 (C) (1.234, 7.835, 3.75) [0.4667, 0.7333, 0.25]\n",
       "PeriodicSite: C2 (C) (6.168e-06, 9.971, 3.75) [0.4667, 0.9333, 0.25]\n",
       "PeriodicSite: C2 (C) (7.402, 1.424, 3.75) [0.6667, 0.1333, 0.25]\n",
       "PeriodicSite: C2 (C) (6.168, 3.561, 3.75) [0.6667, 0.3333, 0.25]\n",
       "PeriodicSite: C2 (C) (4.935, 5.698, 3.75) [0.6667, 0.5333, 0.25]\n",
       "PeriodicSite: C2 (C) (3.701, 7.835, 3.75) [0.6667, 0.7333, 0.25]\n",
       "PeriodicSite: C2 (C) (2.467, 9.971, 3.75) [0.6667, 0.9333, 0.25]\n",
       "PeriodicSite: C2 (C) (9.869, 1.424, 3.75) [0.8667, 0.1333, 0.25]\n",
       "PeriodicSite: C2 (C) (8.636, 3.561, 3.75) [0.8667, 0.3333, 0.25]\n",
       "PeriodicSite: C2 (C) (7.402, 5.698, 3.75) [0.8667, 0.5333, 0.25]\n",
       "PeriodicSite: C2 (C) (6.168, 7.835, 3.75) [0.8667, 0.7333, 0.25]\n",
       "PeriodicSite: C2 (C) (4.935, 9.971, 3.75) [0.8667, 0.9333, 0.25]"
      ]
     },
     "execution_count": 24,
     "metadata": {},
     "output_type": "execute_result"
    }
   ],
   "source": [
    "parser = CifParser(r\"C:\\Users\\Brian\\vesta\\graphene_monolayer_5x5.cif\") #Here goes the path of our cif file\n",
    "graphene = parser.parse_structures()[0]  #CifParser.parse_structures returns a list, therefore we need the first value of the list.\n",
    "graphene"
   ]
  },
  {
   "cell_type": "markdown",
   "id": "202553cf-ad24-4e45-af5c-8c246d6ea298",
   "metadata": {},
   "source": [
    "---  \n",
    "## Lattice\n",
    "<img src=\"images\\lattice.jpg\" width=\"300\" height=\"300\"/>  \n",
    "\n",
    "In this **.cif** file:  \n",
    "- **Angles** correspond to *α*, *β*, *γ* in the given order.  \n",
    "- **a**, **b**, **c** are the lengths of the vectors describing the unit cell.  \n",
    "- **A**, **B**, **C** are the xyz coordinates of the vectors.  \n",
    "\n",
    "---  \n",
    "\n",
    "\n",
    "Using **nglview**, we can visualize the **pymatgen.core.structure.Structure** created by `CifParser` in an interactive cell with:  \n",
    "```python  \n",
    "nv.show_pymatgen(graphene)  \n",
    "```  \n",
    "**nglview** also supports visualization of ASE (Atomic Simulation Environment) atoms or Protein Data Bank (**.pdb**) files:  \n",
    "- `show_file(path)`: Displays files in NGL-supported formats (PDB, GRO, MOL2, SDF, etc.).  \n",
    "- `show_ase(atoms)`: Displays ASE atoms.  \n"
   ]
  },
  {
   "cell_type": "code",
   "execution_count": 25,
   "id": "a20beadd-96cb-4973-bdeb-16dc5a13436e",
   "metadata": {},
   "outputs": [
    {
     "data": {
      "application/vnd.jupyter.widget-view+json": {
       "model_id": "290c9e8838a442f19e4144702a8e76d2",
       "version_major": 2,
       "version_minor": 0
      },
      "text/plain": [
       "NGLWidget()"
      ]
     },
     "metadata": {},
     "output_type": "display_data"
    }
   ],
   "source": [
    "view_graph = nv.show_pymatgen(graphene)\n",
    "view_graph"
   ]
  },
  {
   "cell_type": "markdown",
   "id": "1726d0e1-4841-4ac6-a260-8f48807f9c4d",
   "metadata": {},
   "source": [
    "<img src=\"images/graphene_white.png\" width=\"300\" height=\"300\"/>\n",
    "\n",
    "We can adjust parameters like background color or unit cell\n"
   ]
  },
  {
   "cell_type": "code",
   "execution_count": 26,
   "id": "d9394090-f6ae-4257-bcd0-d4401afdae02",
   "metadata": {},
   "outputs": [
    {
     "data": {
      "application/vnd.jupyter.widget-view+json": {
       "model_id": "290c9e8838a442f19e4144702a8e76d2",
       "version_major": 2,
       "version_minor": 0
      },
      "text/plain": [
       "NGLWidget(background='black', n_components=1)"
      ]
     },
     "metadata": {},
     "output_type": "display_data"
    }
   ],
   "source": [
    "view_graph.background = 'black'\n",
    "view_graph.add_unitcell()\n",
    "view_graph"
   ]
  },
  {
   "cell_type": "markdown",
   "id": "00bdc7d8-fecc-4c67-978f-a642e8b9e63c",
   "metadata": {},
   "source": [
    "<img src=\"images/graphene_black.png\" width=\"300\" height=\"300\"/>"
   ]
  },
  {
   "cell_type": "markdown",
   "id": "b1aaac13-ce18-4253-9825-7ff34672c1b6",
   "metadata": {},
   "source": [
    "### Projection  \n",
    "**nglview** supports two projection types:  \n",
    "1. **Orthographic**: Parallel projections where elements retain their size regardless of distance from the Direction of Projection (DOP).  \n",
    "2. **Perspective**: Realistic projections where distant elements appear smaller (default in **nglview**).  \n",
    "\n",
    "To switch to orthographic projection:  \n",
    "```python  \n",
    "view_graph.camera = 'orthographic'  \n",
    "```  \n",
    "\n",
    "\n",
    "<img src=\"images\\persp_orth.jpg\" width=\"500\" height=\"500\"/>\n",
    "\n"
   ]
  },
  {
   "cell_type": "code",
   "execution_count": 27,
   "id": "bb08875d-0f55-43ce-926c-814fd73850a9",
   "metadata": {},
   "outputs": [
    {
     "data": {
      "application/vnd.jupyter.widget-view+json": {
       "model_id": "290c9e8838a442f19e4144702a8e76d2",
       "version_major": 2,
       "version_minor": 0
      },
      "text/plain": [
       "NGLWidget(background='black', n_components=1)"
      ]
     },
     "metadata": {},
     "output_type": "display_data"
    }
   ],
   "source": [
    "view_graph.camera = 'perspective'\n",
    "view_graph"
   ]
  },
  {
   "cell_type": "code",
   "execution_count": 28,
   "id": "b67c827d-8bf7-42ea-9391-db2668701d17",
   "metadata": {
    "scrolled": true
   },
   "outputs": [
    {
     "data": {
      "application/vnd.jupyter.widget-view+json": {
       "model_id": "290c9e8838a442f19e4144702a8e76d2",
       "version_major": 2,
       "version_minor": 0
      },
      "text/plain": [
       "NGLWidget(background='black', n_components=1)"
      ]
     },
     "metadata": {},
     "output_type": "display_data"
    }
   ],
   "source": [
    "view_graph.camera = 'orthographic'\n",
    "view_graph"
   ]
  },
  {
   "cell_type": "markdown",
   "id": "5e95199f-b2de-4c59-b8ac-70122eab364a",
   "metadata": {},
   "source": [
    "<img src=\"images/graphene_black_ortho.png\" width=\"300\" height=\"300\"/>\n",
    "\n",
    "\n",
    "Finally, render the **nglview.widget.NGLWidget** and save it as a PNG file.  "
   ]
  },
  {
   "cell_type": "code",
   "execution_count": 22,
   "id": "6e02d154-a4f6-4cfa-a7de-c808fc8b7868",
   "metadata": {},
   "outputs": [],
   "source": [
    "graph_img = view_graph.render_image()"
   ]
  },
  {
   "cell_type": "code",
   "execution_count": 25,
   "id": "8c1df4da-8433-48be-be37-956ff7673244",
   "metadata": {},
   "outputs": [],
   "source": [
    "with open(\"graphene.png\", \"wb\") as f:\n",
    "    f.write(graph_img.value)"
   ]
  },
  {
   "cell_type": "code",
   "execution_count": 24,
   "id": "d1083cb7-fed1-44eb-ba75-25e786bcd22c",
   "metadata": {},
   "outputs": [
    {
     "data": {
      "text/plain": [
       "ipywidgets.widgets.widget_media.Image"
      ]
     },
     "execution_count": 24,
     "metadata": {},
     "output_type": "execute_result"
    }
   ],
   "source": [
    "type(graph_img)"
   ]
  },
  {
   "cell_type": "markdown",
   "id": "4f305d4b-e284-4572-889c-8b1838e447db",
   "metadata": {},
   "source": [
    "---\n",
    "\n",
    "### Contact Information  \n",
    "For inquiries regarding this code or analysis, please contact:  \n",
    "\n",
    "**Email:** [red.neuronalec@gmail.com](mailto:red.neuronalec@gmail.com)  \n",
    "**Name:** Minta B.  \n",
    "\n",
    "---\n"
   ]
  }
 ],
 "metadata": {
  "kernelspec": {
   "display_name": "Python 3 (ipykernel)",
   "language": "python",
   "name": "python3"
  },
  "language_info": {
   "codemirror_mode": {
    "name": "ipython",
    "version": 3
   },
   "file_extension": ".py",
   "mimetype": "text/x-python",
   "name": "python",
   "nbconvert_exporter": "python",
   "pygments_lexer": "ipython3",
   "version": "3.10.16"
  }
 },
 "nbformat": 4,
 "nbformat_minor": 5
}
